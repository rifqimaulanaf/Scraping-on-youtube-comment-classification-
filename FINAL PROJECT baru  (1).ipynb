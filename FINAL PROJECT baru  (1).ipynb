{
 "cells": [
  {
   "cell_type": "code",
   "execution_count": 7,
   "metadata": {},
   "outputs": [],
   "source": [
    "from selenium import webdriver\n",
    "import time\n",
    "import pandas as pd\n",
    "from math import ceil\n",
    "import csv\n",
    "from selenium.webdriver import Chrome\n",
    "from selenium.webdriver.common.by import By\n",
    "from selenium.webdriver.common.keys import Keys\n",
    "from selenium.webdriver.support.ui import WebDriverWait\n",
    "from selenium.webdriver.support import expected_conditions as EC\n",
    "\n",
    "## library untuk preprocessing teks\n",
    "import csv \n",
    "import re \n",
    "import nltk\n",
    "import string\n",
    "from nltk.corpus import stopwords\n",
    "from nltk.tokenize import word_tokenize , sent_tokenize \n",
    "from Sastrawi.Stemmer.StemmerFactory import StemmerFactory\n",
    "\n",
    "import numpy as np \n",
    "import matplotlib.pyplot as plt\n",
    "import seaborn as sns \n",
    "%matplotlib inline\n",
    "\n",
    "plt.style.use('ggplot')\n",
    "sns.set_style('whitegrid')"
   ]
  },
  {
   "cell_type": "code",
   "execution_count": 135,
   "metadata": {},
   "outputs": [],
   "source": [
    "df = pd.read_csv(\"D:\\phytonwork\\output_sentiment.csv\",encoding='ISO-8859-1')"
   ]
  },
  {
   "cell_type": "code",
   "execution_count": 136,
   "metadata": {},
   "outputs": [
    {
     "data": {
      "text/html": [
       "<div>\n",
       "<style scoped>\n",
       "    .dataframe tbody tr th:only-of-type {\n",
       "        vertical-align: middle;\n",
       "    }\n",
       "\n",
       "    .dataframe tbody tr th {\n",
       "        vertical-align: top;\n",
       "    }\n",
       "\n",
       "    .dataframe thead th {\n",
       "        text-align: right;\n",
       "    }\n",
       "</style>\n",
       "<table border=\"1\" class=\"dataframe\">\n",
       "  <thead>\n",
       "    <tr style=\"text-align: right;\">\n",
       "      <th></th>\n",
       "      <th>comment</th>\n",
       "      <th>sentiment</th>\n",
       "    </tr>\n",
       "  </thead>\n",
       "  <tbody>\n",
       "    <tr>\n",
       "      <th>0</th>\n",
       "      <td>HP semahal apa pun klo mau internetan tetap ba...</td>\n",
       "      <td>negtive</td>\n",
       "    </tr>\n",
       "    <tr>\n",
       "      <th>1</th>\n",
       "      <td>Ada kekurangan dari hp itu\\n1.Terlalu mahal\\n2...</td>\n",
       "      <td>positive</td>\n",
       "    </tr>\n",
       "    <tr>\n",
       "      <th>2</th>\n",
       "      <td>Canggih, lama2 Hp bisa mirip yg punya tony sta...</td>\n",
       "      <td>positive</td>\n",
       "    </tr>\n",
       "    <tr>\n",
       "      <th>3</th>\n",
       "      <td>huawei: go ahead,we are watching</td>\n",
       "      <td>positive</td>\n",
       "    </tr>\n",
       "    <tr>\n",
       "      <th>4</th>\n",
       "      <td>arghhhh... apalah dayaku sm hp kentangg gw, di...</td>\n",
       "      <td>negtive</td>\n",
       "    </tr>\n",
       "    <tr>\n",
       "      <th>...</th>\n",
       "      <td>...</td>\n",
       "      <td>...</td>\n",
       "    </tr>\n",
       "    <tr>\n",
       "      <th>294</th>\n",
       "      <td>Ampun gan...kemahalan...sukses buat chanel gad...</td>\n",
       "      <td>negtive</td>\n",
       "    </tr>\n",
       "    <tr>\n",
       "      <th>295</th>\n",
       "      <td>Keren kak</td>\n",
       "      <td>positive</td>\n",
       "    </tr>\n",
       "    <tr>\n",
       "      <th>296</th>\n",
       "      <td>Keren</td>\n",
       "      <td>positive</td>\n",
       "    </tr>\n",
       "    <tr>\n",
       "      <th>297</th>\n",
       "      <td>Hp nya ribet banget anying</td>\n",
       "      <td>negtive</td>\n",
       "    </tr>\n",
       "    <tr>\n",
       "      <th>298</th>\n",
       "      <td>Mendingan ini drpd galaxy fold klo ini mode hp...</td>\n",
       "      <td>positive</td>\n",
       "    </tr>\n",
       "  </tbody>\n",
       "</table>\n",
       "<p>299 rows × 2 columns</p>\n",
       "</div>"
      ],
      "text/plain": [
       "                                               comment sentiment\n",
       "0    HP semahal apa pun klo mau internetan tetap ba...   negtive\n",
       "1    Ada kekurangan dari hp itu\\n1.Terlalu mahal\\n2...  positive\n",
       "2    Canggih, lama2 Hp bisa mirip yg punya tony sta...  positive\n",
       "3                     huawei: go ahead,we are watching  positive\n",
       "4    arghhhh... apalah dayaku sm hp kentangg gw, di...   negtive\n",
       "..                                                 ...       ...\n",
       "294  Ampun gan...kemahalan...sukses buat chanel gad...   negtive\n",
       "295                                          Keren kak  positive\n",
       "296                                              Keren  positive\n",
       "297                         Hp nya ribet banget anying   negtive\n",
       "298  Mendingan ini drpd galaxy fold klo ini mode hp...  positive\n",
       "\n",
       "[299 rows x 2 columns]"
      ]
     },
     "execution_count": 136,
     "metadata": {},
     "output_type": "execute_result"
    }
   ],
   "source": [
    "df"
   ]
  },
  {
   "cell_type": "code",
   "execution_count": 137,
   "metadata": {},
   "outputs": [
    {
     "data": {
      "image/png": "[encoded data removed]",
      "text/plain": [
       "<Figure size 432x432 with 1 Axes>"
      ]
     },
     "metadata": {},
     "output_type": "display_data"
    }
   ],
   "source": [
    "df[\"sentiment\"].value_counts().plot(kind='pie',explode=[0,0.1],figsize=(6,6),autopct='%1.1f%%',shadow=True)\n",
    "plt.ylabel(\"positive vs negative\")\n",
    "plt.legend([\"positive\",\"negative\"])\n",
    "plt.show()"
   ]
  },
  {
   "cell_type": "code",
   "execution_count": 138,
   "metadata": {},
   "outputs": [
    {
     "data": {
      "text/html": [
       "<div>\n",
       "<style scoped>\n",
       "    .dataframe tbody tr th:only-of-type {\n",
       "        vertical-align: middle;\n",
       "    }\n",
       "\n",
       "    .dataframe tbody tr th {\n",
       "        vertical-align: top;\n",
       "    }\n",
       "\n",
       "    .dataframe thead th {\n",
       "        text-align: right;\n",
       "    }\n",
       "</style>\n",
       "<table border=\"1\" class=\"dataframe\">\n",
       "  <thead>\n",
       "    <tr style=\"text-align: right;\">\n",
       "      <th></th>\n",
       "      <th>comment</th>\n",
       "      <th>sentiment</th>\n",
       "      <th>length</th>\n",
       "    </tr>\n",
       "  </thead>\n",
       "  <tbody>\n",
       "    <tr>\n",
       "      <th>0</th>\n",
       "      <td>HP semahal apa pun klo mau internetan tetap ba...</td>\n",
       "      <td>negtive</td>\n",
       "      <td>60</td>\n",
       "    </tr>\n",
       "    <tr>\n",
       "      <th>1</th>\n",
       "      <td>Ada kekurangan dari hp itu\\n1.Terlalu mahal\\n2...</td>\n",
       "      <td>positive</td>\n",
       "      <td>74</td>\n",
       "    </tr>\n",
       "    <tr>\n",
       "      <th>2</th>\n",
       "      <td>Canggih, lama2 Hp bisa mirip yg punya tony sta...</td>\n",
       "      <td>positive</td>\n",
       "      <td>60</td>\n",
       "    </tr>\n",
       "    <tr>\n",
       "      <th>3</th>\n",
       "      <td>huawei: go ahead,we are watching</td>\n",
       "      <td>positive</td>\n",
       "      <td>32</td>\n",
       "    </tr>\n",
       "    <tr>\n",
       "      <th>4</th>\n",
       "      <td>arghhhh... apalah dayaku sm hp kentangg gw, di...</td>\n",
       "      <td>negtive</td>\n",
       "      <td>96</td>\n",
       "    </tr>\n",
       "  </tbody>\n",
       "</table>\n",
       "</div>"
      ],
      "text/plain": [
       "                                             comment sentiment  length\n",
       "0  HP semahal apa pun klo mau internetan tetap ba...   negtive      60\n",
       "1  Ada kekurangan dari hp itu\\n1.Terlalu mahal\\n2...  positive      74\n",
       "2  Canggih, lama2 Hp bisa mirip yg punya tony sta...  positive      60\n",
       "3                   huawei: go ahead,we are watching  positive      32\n",
       "4  arghhhh... apalah dayaku sm hp kentangg gw, di...   negtive      96"
      ]
     },
     "execution_count": 138,
     "metadata": {},
     "output_type": "execute_result"
    }
   ],
   "source": [
    "df['length']=df['comment'].apply(len)\n",
    "df.head()"
   ]
  },
  {
   "cell_type": "code",
   "execution_count": 139,
   "metadata": {},
   "outputs": [
    {
     "data": {
      "text/plain": [
       "count    299.000000\n",
       "mean      42.735786\n",
       "std       31.364716\n",
       "min        3.000000\n",
       "25%       19.000000\n",
       "50%       36.000000\n",
       "75%       60.000000\n",
       "max      242.000000\n",
       "Name: commentLength, dtype: float64"
      ]
     },
     "execution_count": 139,
     "metadata": {},
     "output_type": "execute_result"
    }
   ],
   "source": [
    "df[\"commentLength\"]=df[\"comment\"].apply(len)\n",
    "df[\"commentLength\"].describe()"
   ]
  },
  {
   "cell_type": "markdown",
   "metadata": {},
   "source": [
    "# Cleaning Data"
   ]
  },
  {
   "cell_type": "code",
   "execution_count": 140,
   "metadata": {},
   "outputs": [],
   "source": [
    "def clean_text(text):\n",
    "  text=text.lower()\n",
    "  text=re.sub(\"@[^\\s]+\", \"\", text)\n",
    "  text=re.sub(\"\\w*\\d\\w\", \"\", text)\n",
    "  text=re.sub(r'\\w+:\\/{2}[\\d\\w-]+(\\.[\\d\\w-]+)*(?:(?:\\/[^\\s/]*))*', \"\", text)\n",
    "  text=re.sub(r'(https?:\\/\\/)?([\\da-z\\.-]+)\\.([a-z\\.]{2,6})([\\/\\w\\.-]*)*\\/?\\S', \"\", text)\n",
    "  text=re.sub(\"#[^\\s]+\", \"\", text)\n",
    "  text=re.sub(r'\\b[a-zA-Z]\\b', \"\", text)\n",
    "  return text\n",
    "\n",
    "clean = lambda x: clean_text(x)"
   ]
  },
  {
   "cell_type": "code",
   "execution_count": 141,
   "metadata": {},
   "outputs": [
    {
     "name": "stdout",
     "output_type": "stream",
     "text": [
      "karena yang akan di praproses adalah kolom comment yang berisi text, maka kita buat dataframe baru yaitu dfx yang khusus berisi comment yang akan kita praproses saja.\n"
     ]
    }
   ],
   "source": [
    "print(\"karena yang akan di praproses adalah kolom comment yang berisi text, maka kita buat dataframe baru yaitu dfx yang khusus berisi comment yang akan kita praproses saja.\")"
   ]
  },
  {
   "cell_type": "code",
   "execution_count": 142,
   "metadata": {},
   "outputs": [
    {
     "data": {
      "text/html": [
       "<div>\n",
       "<style scoped>\n",
       "    .dataframe tbody tr th:only-of-type {\n",
       "        vertical-align: middle;\n",
       "    }\n",
       "\n",
       "    .dataframe tbody tr th {\n",
       "        vertical-align: top;\n",
       "    }\n",
       "\n",
       "    .dataframe thead th {\n",
       "        text-align: right;\n",
       "    }\n",
       "</style>\n",
       "<table border=\"1\" class=\"dataframe\">\n",
       "  <thead>\n",
       "    <tr style=\"text-align: right;\">\n",
       "      <th></th>\n",
       "      <th>comment</th>\n",
       "    </tr>\n",
       "  </thead>\n",
       "  <tbody>\n",
       "    <tr>\n",
       "      <th>0</th>\n",
       "      <td>hp semahal apa pun klo mau internetan tetap ba...</td>\n",
       "    </tr>\n",
       "    <tr>\n",
       "      <th>1</th>\n",
       "      <td>ada kekurangan dari hp itu\\n mahal\\n mahal\\n m...</td>\n",
       "    </tr>\n",
       "    <tr>\n",
       "      <th>2</th>\n",
       "      <td>canggih, lama2 hp bisa mirip yg punya tony stark</td>\n",
       "    </tr>\n",
       "    <tr>\n",
       "      <th>3</th>\n",
       "      <td>huawei: go ahead,we are watching</td>\n",
       "    </tr>\n",
       "    <tr>\n",
       "      <th>4</th>\n",
       "      <td>arghhhh... apalah dayaku sm hp kentangg gw, di...</td>\n",
       "    </tr>\n",
       "    <tr>\n",
       "      <th>...</th>\n",
       "      <td>...</td>\n",
       "    </tr>\n",
       "    <tr>\n",
       "      <th>294</th>\n",
       "      <td>ampun  buat chanel gadgetin-nya bang  banyak m...</td>\n",
       "    </tr>\n",
       "    <tr>\n",
       "      <th>295</th>\n",
       "      <td>keren kak</td>\n",
       "    </tr>\n",
       "    <tr>\n",
       "      <th>296</th>\n",
       "      <td>keren</td>\n",
       "    </tr>\n",
       "    <tr>\n",
       "      <th>297</th>\n",
       "      <td>hp nya ribet banget anying</td>\n",
       "    </tr>\n",
       "    <tr>\n",
       "      <th>298</th>\n",
       "      <td>mendingan ini drpd galaxy fold klo ini mode hp...</td>\n",
       "    </tr>\n",
       "  </tbody>\n",
       "</table>\n",
       "<p>299 rows × 1 columns</p>\n",
       "</div>"
      ],
      "text/plain": [
       "                                               comment\n",
       "0    hp semahal apa pun klo mau internetan tetap ba...\n",
       "1    ada kekurangan dari hp itu\\n mahal\\n mahal\\n m...\n",
       "2    canggih, lama2 hp bisa mirip yg punya tony stark \n",
       "3                     huawei: go ahead,we are watching\n",
       "4    arghhhh... apalah dayaku sm hp kentangg gw, di...\n",
       "..                                                 ...\n",
       "294  ampun  buat chanel gadgetin-nya bang  banyak m...\n",
       "295                                          keren kak\n",
       "296                                              keren\n",
       "297                         hp nya ribet banget anying\n",
       "298  mendingan ini drpd galaxy fold klo ini mode hp...\n",
       "\n",
       "[299 rows x 1 columns]"
      ]
     },
     "execution_count": 142,
     "metadata": {},
     "output_type": "execute_result"
    }
   ],
   "source": [
    "dfx=pd.DataFrame(df.comment.apply(clean))\n",
    "dfx"
   ]
  },
  {
   "cell_type": "code",
   "execution_count": 143,
   "metadata": {},
   "outputs": [],
   "source": [
    "def Punctuation(string):\n",
    "  punctuation='''!\"#$%&'()*+,-./:;<=>?@[\\]^_`{|}~'''\n",
    "  for x in string.lower():\n",
    "    if x in punctuation:\n",
    "      string = string.replace(x, \"\")\n",
    "\n",
    "  return(string)\n",
    "\n",
    "cleanPunc = lambda x: Punctuation(x)"
   ]
  },
  {
   "cell_type": "code",
   "execution_count": 144,
   "metadata": {},
   "outputs": [
    {
     "data": {
      "text/html": [
       "<div>\n",
       "<style scoped>\n",
       "    .dataframe tbody tr th:only-of-type {\n",
       "        vertical-align: middle;\n",
       "    }\n",
       "\n",
       "    .dataframe tbody tr th {\n",
       "        vertical-align: top;\n",
       "    }\n",
       "\n",
       "    .dataframe thead th {\n",
       "        text-align: right;\n",
       "    }\n",
       "</style>\n",
       "<table border=\"1\" class=\"dataframe\">\n",
       "  <thead>\n",
       "    <tr style=\"text-align: right;\">\n",
       "      <th></th>\n",
       "      <th>comment</th>\n",
       "    </tr>\n",
       "  </thead>\n",
       "  <tbody>\n",
       "    <tr>\n",
       "      <th>0</th>\n",
       "      <td>HP semahal apa pun klo mau internetan tetap ba...</td>\n",
       "    </tr>\n",
       "    <tr>\n",
       "      <th>1</th>\n",
       "      <td>Ada kekurangan dari hp itu\\n1Terlalu mahal\\n2T...</td>\n",
       "    </tr>\n",
       "    <tr>\n",
       "      <th>2</th>\n",
       "      <td>Canggih lama2 Hp bisa mirip yg punya tony star...</td>\n",
       "    </tr>\n",
       "    <tr>\n",
       "      <th>3</th>\n",
       "      <td>huawei go aheadwe are watching</td>\n",
       "    </tr>\n",
       "    <tr>\n",
       "      <th>4</th>\n",
       "      <td>arghhhh apalah dayaku sm hp kentangg gw dikate...</td>\n",
       "    </tr>\n",
       "    <tr>\n",
       "      <th>...</th>\n",
       "      <td>...</td>\n",
       "    </tr>\n",
       "    <tr>\n",
       "      <th>294</th>\n",
       "      <td>Ampun gankemahalansukses buat chanel gadgetInn...</td>\n",
       "    </tr>\n",
       "    <tr>\n",
       "      <th>295</th>\n",
       "      <td>Keren kak</td>\n",
       "    </tr>\n",
       "    <tr>\n",
       "      <th>296</th>\n",
       "      <td>Keren</td>\n",
       "    </tr>\n",
       "    <tr>\n",
       "      <th>297</th>\n",
       "      <td>Hp nya ribet banget anying</td>\n",
       "    </tr>\n",
       "    <tr>\n",
       "      <th>298</th>\n",
       "      <td>Mendingan ini drpd galaxy fold klo ini mode hp...</td>\n",
       "    </tr>\n",
       "  </tbody>\n",
       "</table>\n",
       "<p>299 rows × 1 columns</p>\n",
       "</div>"
      ],
      "text/plain": [
       "                                               comment\n",
       "0    HP semahal apa pun klo mau internetan tetap ba...\n",
       "1    Ada kekurangan dari hp itu\\n1Terlalu mahal\\n2T...\n",
       "2    Canggih lama2 Hp bisa mirip yg punya tony star...\n",
       "3                       huawei go aheadwe are watching\n",
       "4    arghhhh apalah dayaku sm hp kentangg gw dikate...\n",
       "..                                                 ...\n",
       "294  Ampun gankemahalansukses buat chanel gadgetInn...\n",
       "295                                          Keren kak\n",
       "296                                              Keren\n",
       "297                         Hp nya ribet banget anying\n",
       "298  Mendingan ini drpd galaxy fold klo ini mode hp...\n",
       "\n",
       "[299 rows x 1 columns]"
      ]
     },
     "execution_count": 144,
     "metadata": {},
     "output_type": "execute_result"
    }
   ],
   "source": [
    "dfx=pd.DataFrame(df.comment.apply(cleanPunc))\n",
    "dfx"
   ]
  },
  {
   "cell_type": "code",
   "execution_count": 145,
   "metadata": {},
   "outputs": [],
   "source": [
    "def get_stopword(stopwordsfile):\n",
    "  stopwords=[]\n",
    "  file_stopwords=open(stopwordsfile, 'r')\n",
    "  row= file_stopwords.readline()\n",
    "  while row:\n",
    "    word=row.strip()\n",
    "    stopwords.append(word)\n",
    "    row=file_stopwords.readline()\n",
    "  file_stopwords.close()\n",
    "  return stopwords"
   ]
  },
  {
   "cell_type": "code",
   "execution_count": 146,
   "metadata": {
    "scrolled": true
   },
   "outputs": [],
   "source": [
    "stop_words_indo=get_stopword(\"D:/phytonwork/stopwordsindo.txt\")"
   ]
  },
  {
   "cell_type": "code",
   "execution_count": 147,
   "metadata": {},
   "outputs": [],
   "source": [
    "def stopwords(text):\n",
    "  tokens = word_tokenize(text)\n",
    "  filtered = []\n",
    "\n",
    "  for w in tokens:\n",
    "    if w not in stop_words_indo:\n",
    "      filtered.append(w)\n",
    "\n",
    "  hasil=' '.join(filtered)\n",
    "  return hasil\n",
    "\n",
    "st=lambda x: stopwords(x)"
   ]
  },
  {
   "cell_type": "code",
   "execution_count": 148,
   "metadata": {},
   "outputs": [
    {
     "data": {
      "text/html": [
       "<div>\n",
       "<style scoped>\n",
       "    .dataframe tbody tr th:only-of-type {\n",
       "        vertical-align: middle;\n",
       "    }\n",
       "\n",
       "    .dataframe tbody tr th {\n",
       "        vertical-align: top;\n",
       "    }\n",
       "\n",
       "    .dataframe thead th {\n",
       "        text-align: right;\n",
       "    }\n",
       "</style>\n",
       "<table border=\"1\" class=\"dataframe\">\n",
       "  <thead>\n",
       "    <tr style=\"text-align: right;\">\n",
       "      <th></th>\n",
       "      <th>comment</th>\n",
       "    </tr>\n",
       "  </thead>\n",
       "  <tbody>\n",
       "    <tr>\n",
       "      <th>0</th>\n",
       "      <td>HP semahal klo internetan bayar pake kuota</td>\n",
       "    </tr>\n",
       "    <tr>\n",
       "      <th>1</th>\n",
       "      <td>Ada kekurangan hp 1Terlalu mahal 2Terlalu maha...</td>\n",
       "    </tr>\n",
       "    <tr>\n",
       "      <th>2</th>\n",
       "      <td>Canggih lama2 Hp yg tony stark nihhahah</td>\n",
       "    </tr>\n",
       "    <tr>\n",
       "      <th>3</th>\n",
       "      <td>huawei go aheadwe are watching</td>\n",
       "    </tr>\n",
       "    <tr>\n",
       "      <th>4</th>\n",
       "      <td>arghhhh apalah dayaku sm hp kentangg gw dikate...</td>\n",
       "    </tr>\n",
       "  </tbody>\n",
       "</table>\n",
       "</div>"
      ],
      "text/plain": [
       "                                             comment\n",
       "0         HP semahal klo internetan bayar pake kuota\n",
       "1  Ada kekurangan hp 1Terlalu mahal 2Terlalu maha...\n",
       "2            Canggih lama2 Hp yg tony stark nihhahah\n",
       "3                     huawei go aheadwe are watching\n",
       "4  arghhhh apalah dayaku sm hp kentangg gw dikate..."
      ]
     },
     "execution_count": 148,
     "metadata": {},
     "output_type": "execute_result"
    }
   ],
   "source": [
    "dfx = pd.DataFrame(dfx.comment.apply(st))\n",
    "dfx.head()"
   ]
  },
  {
   "cell_type": "code",
   "execution_count": 149,
   "metadata": {},
   "outputs": [],
   "source": [
    "def stemming(text):\n",
    "  factory_stem=StemmerFactory()\n",
    "  stemmer=factory_stem.create_stemmer()\n",
    "  text=stemmer.stem(text)\n",
    "  return text\n",
    "\n",
    "stem = lambda x: stemming(x)"
   ]
  },
  {
   "cell_type": "code",
   "execution_count": 150,
   "metadata": {},
   "outputs": [
    {
     "data": {
      "text/html": [
       "<div>\n",
       "<style scoped>\n",
       "    .dataframe tbody tr th:only-of-type {\n",
       "        vertical-align: middle;\n",
       "    }\n",
       "\n",
       "    .dataframe tbody tr th {\n",
       "        vertical-align: top;\n",
       "    }\n",
       "\n",
       "    .dataframe thead th {\n",
       "        text-align: right;\n",
       "    }\n",
       "</style>\n",
       "<table border=\"1\" class=\"dataframe\">\n",
       "  <thead>\n",
       "    <tr style=\"text-align: right;\">\n",
       "      <th></th>\n",
       "      <th>comment</th>\n",
       "    </tr>\n",
       "  </thead>\n",
       "  <tbody>\n",
       "    <tr>\n",
       "      <th>0</th>\n",
       "      <td>hp mahal klo internetan bayar pake kuota</td>\n",
       "    </tr>\n",
       "    <tr>\n",
       "      <th>1</th>\n",
       "      <td>ada kurang hp 1terlalu mahal 2terlalu mahal 3t...</td>\n",
       "    </tr>\n",
       "    <tr>\n",
       "      <th>2</th>\n",
       "      <td>canggih lama2 hp yg tony stark nihhahah</td>\n",
       "    </tr>\n",
       "    <tr>\n",
       "      <th>3</th>\n",
       "      <td>huawei go aheadwe are watching</td>\n",
       "    </tr>\n",
       "    <tr>\n",
       "      <th>4</th>\n",
       "      <td>arghhhh apa daya sm hp kentangg gw kate nih ye...</td>\n",
       "    </tr>\n",
       "  </tbody>\n",
       "</table>\n",
       "</div>"
      ],
      "text/plain": [
       "                                             comment\n",
       "0           hp mahal klo internetan bayar pake kuota\n",
       "1  ada kurang hp 1terlalu mahal 2terlalu mahal 3t...\n",
       "2            canggih lama2 hp yg tony stark nihhahah\n",
       "3                     huawei go aheadwe are watching\n",
       "4  arghhhh apa daya sm hp kentangg gw kate nih ye..."
      ]
     },
     "execution_count": 150,
     "metadata": {},
     "output_type": "execute_result"
    }
   ],
   "source": [
    "dfx = pd.DataFrame(dfx.comment.apply(stem))\n",
    "dfx.head()"
   ]
  },
  {
   "cell_type": "code",
   "execution_count": 151,
   "metadata": {},
   "outputs": [
    {
     "data": {
      "text/html": [
       "<div>\n",
       "<style scoped>\n",
       "    .dataframe tbody tr th:only-of-type {\n",
       "        vertical-align: middle;\n",
       "    }\n",
       "\n",
       "    .dataframe tbody tr th {\n",
       "        vertical-align: top;\n",
       "    }\n",
       "\n",
       "    .dataframe thead th {\n",
       "        text-align: right;\n",
       "    }\n",
       "</style>\n",
       "<table border=\"1\" class=\"dataframe\">\n",
       "  <thead>\n",
       "    <tr style=\"text-align: right;\">\n",
       "      <th></th>\n",
       "      <th>comment</th>\n",
       "      <th>sentiment</th>\n",
       "    </tr>\n",
       "  </thead>\n",
       "  <tbody>\n",
       "    <tr>\n",
       "      <th>0</th>\n",
       "      <td>hp mahal klo internetan bayar pake kuota</td>\n",
       "      <td>negtive</td>\n",
       "    </tr>\n",
       "    <tr>\n",
       "      <th>1</th>\n",
       "      <td>ada kurang hp 1terlalu mahal 2terlalu mahal 3t...</td>\n",
       "      <td>positive</td>\n",
       "    </tr>\n",
       "    <tr>\n",
       "      <th>2</th>\n",
       "      <td>canggih lama2 hp yg tony stark nihhahah</td>\n",
       "      <td>positive</td>\n",
       "    </tr>\n",
       "    <tr>\n",
       "      <th>3</th>\n",
       "      <td>huawei go aheadwe are watching</td>\n",
       "      <td>positive</td>\n",
       "    </tr>\n",
       "    <tr>\n",
       "      <th>4</th>\n",
       "      <td>arghhhh apa daya sm hp kentangg gw kate nih ye...</td>\n",
       "      <td>negtive</td>\n",
       "    </tr>\n",
       "    <tr>\n",
       "      <th>...</th>\n",
       "      <td>...</td>\n",
       "      <td>...</td>\n",
       "    </tr>\n",
       "    <tr>\n",
       "      <th>294</th>\n",
       "      <td>ampun gankemahalansukses chanel gadgetinnya ba...</td>\n",
       "      <td>negtive</td>\n",
       "    </tr>\n",
       "    <tr>\n",
       "      <th>295</th>\n",
       "      <td>keren kak</td>\n",
       "      <td>positive</td>\n",
       "    </tr>\n",
       "    <tr>\n",
       "      <th>296</th>\n",
       "      <td>keren</td>\n",
       "      <td>positive</td>\n",
       "    </tr>\n",
       "    <tr>\n",
       "      <th>297</th>\n",
       "      <td>hp nya ribet banget anying</td>\n",
       "      <td>negtive</td>\n",
       "    </tr>\n",
       "    <tr>\n",
       "      <th>298</th>\n",
       "      <td>mending drpd galaxy fold klo mode hpnya layar ...</td>\n",
       "      <td>positive</td>\n",
       "    </tr>\n",
       "  </tbody>\n",
       "</table>\n",
       "<p>299 rows × 2 columns</p>\n",
       "</div>"
      ],
      "text/plain": [
       "                                               comment sentiment\n",
       "0             hp mahal klo internetan bayar pake kuota   negtive\n",
       "1    ada kurang hp 1terlalu mahal 2terlalu mahal 3t...  positive\n",
       "2              canggih lama2 hp yg tony stark nihhahah  positive\n",
       "3                       huawei go aheadwe are watching  positive\n",
       "4    arghhhh apa daya sm hp kentangg gw kate nih ye...   negtive\n",
       "..                                                 ...       ...\n",
       "294  ampun gankemahalansukses chanel gadgetinnya ba...   negtive\n",
       "295                                          keren kak  positive\n",
       "296                                              keren  positive\n",
       "297                         hp nya ribet banget anying   negtive\n",
       "298  mending drpd galaxy fold klo mode hpnya layar ...  positive\n",
       "\n",
       "[299 rows x 2 columns]"
      ]
     },
     "execution_count": 151,
     "metadata": {},
     "output_type": "execute_result"
    }
   ],
   "source": [
    "dfx[\"sentiment\"]=df[\"sentiment\"]\n",
    "dfx"
   ]
  },
  {
   "cell_type": "markdown",
   "metadata": {},
   "source": [
    "# SKENARIO 1 "
   ]
  },
  {
   "cell_type": "code",
   "execution_count": 152,
   "metadata": {},
   "outputs": [],
   "source": [
    "## library untuk vectorized\n",
    "from sklearn.feature_extraction.text import TfidfVectorizer \n",
    "from sklearn.feature_extraction.text import TfidfTransformer\n",
    "\n",
    "## library untuk pemodelan klasifikasi\n",
    "from sklearn.model_selection import train_test_split\n",
    "from sklearn.naive_bayes import MultinomialNB\n",
    "from sklearn.naive_bayes import BernoulliNB\n",
    "from sklearn.naive_bayes import GaussianNB\n",
    "\n",
    "## library untuk evaluasi \n",
    "from sklearn.metrics import confusion_matrix \n",
    "from sklearn.metrics import accuracy_score"
   ]
  },
  {
   "cell_type": "code",
   "execution_count": 153,
   "metadata": {},
   "outputs": [],
   "source": [
    "vectorizer = TfidfVectorizer(use_idf=True, strip_accents=\"ascii\")"
   ]
  },
  {
   "cell_type": "code",
   "execution_count": 154,
   "metadata": {},
   "outputs": [],
   "source": [
    "y=dfx.sentiment\n",
    "X=dfx.comment"
   ]
  },
  {
   "cell_type": "code",
   "execution_count": 155,
   "metadata": {},
   "outputs": [],
   "source": [
    "X_v=vectorizer.fit_transform(X)"
   ]
  },
  {
   "cell_type": "code",
   "execution_count": 156,
   "metadata": {},
   "outputs": [],
   "source": [
    "X_train, X_test, y_train, y_test = train_test_split(X, y, test_size=0.3, random_state=33)"
   ]
  },
  {
   "cell_type": "code",
   "execution_count": 157,
   "metadata": {},
   "outputs": [
    {
     "data": {
      "text/plain": [
       "0.6333333333333333"
      ]
     },
     "execution_count": 157,
     "metadata": {},
     "output_type": "execute_result"
    }
   ],
   "source": [
    "X_train_vect = vectorizer.fit_transform(X_train)\n",
    "X_test_vect=vectorizer.transform(X_test)\n",
    "\n",
    "mnb = MultinomialNB()\n",
    "\n",
    "mnb.fit(X_train_vect, y_train)\n",
    "y_pred = mnb.predict(X_test_vect)\n",
    "\n",
    "accuracy_score(y_test, y_pred)"
   ]
  },
  {
   "cell_type": "code",
   "execution_count": 268,
   "metadata": {},
   "outputs": [
    {
     "data": {
      "text/plain": [
       "0       negtive\n",
       "1      positive\n",
       "2      positive\n",
       "3      positive\n",
       "4       negtive\n",
       "         ...   \n",
       "294     negtive\n",
       "295    positive\n",
       "296    positive\n",
       "297     negtive\n",
       "298    positive\n",
       "Name: sentiment, Length: 299, dtype: object"
      ]
     },
     "execution_count": 268,
     "metadata": {},
     "output_type": "execute_result"
    }
   ],
   "source": []
  },
  {
   "cell_type": "code",
   "execution_count": 158,
   "metadata": {},
   "outputs": [],
   "source": [
    "from sklearn.metrics import classification_report, confusion_matrix\n"
   ]
  },
  {
   "cell_type": "code",
   "execution_count": 159,
   "metadata": {},
   "outputs": [
    {
     "name": "stdout",
     "output_type": "stream",
     "text": [
      "[[27 11]\n",
      " [22 30]]\n"
     ]
    }
   ],
   "source": [
    "print(confusion_matrix(y_test, y_pred))"
   ]
  },
  {
   "cell_type": "code",
   "execution_count": 160,
   "metadata": {},
   "outputs": [
    {
     "name": "stdout",
     "output_type": "stream",
     "text": [
      "              precision    recall  f1-score   support\n",
      "\n",
      "     negtive       0.55      0.71      0.62        38\n",
      "    positive       0.73      0.58      0.65        52\n",
      "\n",
      "    accuracy                           0.63        90\n",
      "   macro avg       0.64      0.64      0.63        90\n",
      "weighted avg       0.66      0.63      0.63        90\n",
      "\n"
     ]
    }
   ],
   "source": [
    "print(classification_report(y_test, y_pred, zero_division=\"warn\"))"
   ]
  },
  {
   "cell_type": "code",
   "execution_count": 161,
   "metadata": {},
   "outputs": [],
   "source": [
    "from sklearn.model_selection import cross_val_score, cross_val_predict"
   ]
  },
  {
   "cell_type": "code",
   "execution_count": 162,
   "metadata": {},
   "outputs": [
    {
     "name": "stdout",
     "output_type": "stream",
     "text": [
      "MNB\n",
      "Rata-rata nilai akurasi: 0.67 (+/- 0.10)\n",
      "Rata-rata nilai precision macro: 0.67 (+/- 0.11)\n",
      "Rata-rata nilai recall macro: 0.67 (+/- 0.11)\n",
      "Rata-rata nilai f1 macro: 0.67 (+/- 0.11)\n"
     ]
    }
   ],
   "source": [
    "print(\"MNB\")\n",
    "scores_accuracy_mnb = cross_val_score(mnb, X_v, y, cv=10, scoring='accuracy')\n",
    "print(\"Rata-rata nilai akurasi: %0.2f (+/- %0.2f)\" % (scores_accuracy_mnb.mean(), scores_accuracy_mnb.std()))\n",
    "\n",
    "scores_precision_mnb = cross_val_score(mnb, X_v, y, cv=10, scoring='precision_macro')\n",
    "print(\"Rata-rata nilai precision macro: %0.2f (+/- %0.2f)\" % (scores_precision_mnb.mean(), scores_precision_mnb.std()))\n",
    "\n",
    "scores_recall_mnb = cross_val_score(mnb, X_v, y, cv=10, scoring='recall_macro')\n",
    "print(\"Rata-rata nilai recall macro: %0.2f (+/- %0.2f)\" % (scores_recall_mnb.mean(), scores_recall_mnb.std()))\n",
    "\n",
    "scores_f1_mnb = cross_val_score(mnb, X_v, y, cv=10, scoring='f1_macro')\n",
    "print(\"Rata-rata nilai f1 macro: %0.2f (+/- %0.2f)\" % (scores_f1_mnb.mean(), scores_f1_mnb.std()))"
   ]
  },
  {
   "cell_type": "markdown",
   "metadata": {},
   "source": [
    "# SKENARIO 2"
   ]
  },
  {
   "cell_type": "code",
   "execution_count": 163,
   "metadata": {},
   "outputs": [],
   "source": [
    "dfnew=pd.read_csv(\"D:\\phytonwork\\output_sentiment.csv\",encoding='ISO-8859-1')"
   ]
  },
  {
   "cell_type": "code",
   "execution_count": 66,
   "metadata": {},
   "outputs": [],
   "source": [
    "def clean_text(text):\n",
    "  text=text.lower()\n",
    "  text=re.sub(\"@[^\\s]+\", \"\", text)\n",
    "  text=re.sub(\"\\w*\\d\\w\", \"\", text)\n",
    "  text=re.sub(r'\\w+:\\/{2}[\\d\\w-]+(\\.[\\d\\w-]+)*(?:(?:\\/[^\\s/]*))*', \"\", text)\n",
    "  text=re.sub(r'(https?:\\/\\/)?([\\da-z\\.-]+)\\.([a-z\\.]{2,6})([\\/\\w\\.-]*)*\\/?\\S', \"\", text)\n",
    "  text=re.sub(\"#[^\\s]+\", \"\", text)\n",
    "  text=re.sub(r'\\b[a-zA-Z]\\b', \"\", text)\n",
    "  return text\n",
    "\n",
    "clean = lambda x: clean_text(x)"
   ]
  },
  {
   "cell_type": "code",
   "execution_count": 164,
   "metadata": {},
   "outputs": [
    {
     "data": {
      "text/html": [
       "<div>\n",
       "<style scoped>\n",
       "    .dataframe tbody tr th:only-of-type {\n",
       "        vertical-align: middle;\n",
       "    }\n",
       "\n",
       "    .dataframe tbody tr th {\n",
       "        vertical-align: top;\n",
       "    }\n",
       "\n",
       "    .dataframe thead th {\n",
       "        text-align: right;\n",
       "    }\n",
       "</style>\n",
       "<table border=\"1\" class=\"dataframe\">\n",
       "  <thead>\n",
       "    <tr style=\"text-align: right;\">\n",
       "      <th></th>\n",
       "      <th>comment</th>\n",
       "    </tr>\n",
       "  </thead>\n",
       "  <tbody>\n",
       "    <tr>\n",
       "      <th>0</th>\n",
       "      <td>hp semahal apa pun klo mau internetan tetap ba...</td>\n",
       "    </tr>\n",
       "    <tr>\n",
       "      <th>1</th>\n",
       "      <td>ada kekurangan dari hp itu\\n mahal\\n mahal\\n m...</td>\n",
       "    </tr>\n",
       "    <tr>\n",
       "      <th>2</th>\n",
       "      <td>canggih, lama2 hp bisa mirip yg punya tony stark</td>\n",
       "    </tr>\n",
       "    <tr>\n",
       "      <th>3</th>\n",
       "      <td>huawei: go ahead,we are watching</td>\n",
       "    </tr>\n",
       "    <tr>\n",
       "      <th>4</th>\n",
       "      <td>arghhhh... apalah dayaku sm hp kentangg gw, di...</td>\n",
       "    </tr>\n",
       "    <tr>\n",
       "      <th>...</th>\n",
       "      <td>...</td>\n",
       "    </tr>\n",
       "    <tr>\n",
       "      <th>294</th>\n",
       "      <td>ampun  buat chanel gadgetin-nya bang  banyak m...</td>\n",
       "    </tr>\n",
       "    <tr>\n",
       "      <th>295</th>\n",
       "      <td>keren kak</td>\n",
       "    </tr>\n",
       "    <tr>\n",
       "      <th>296</th>\n",
       "      <td>keren</td>\n",
       "    </tr>\n",
       "    <tr>\n",
       "      <th>297</th>\n",
       "      <td>hp nya ribet banget anying</td>\n",
       "    </tr>\n",
       "    <tr>\n",
       "      <th>298</th>\n",
       "      <td>mendingan ini drpd galaxy fold klo ini mode hp...</td>\n",
       "    </tr>\n",
       "  </tbody>\n",
       "</table>\n",
       "<p>299 rows × 1 columns</p>\n",
       "</div>"
      ],
      "text/plain": [
       "                                               comment\n",
       "0    hp semahal apa pun klo mau internetan tetap ba...\n",
       "1    ada kekurangan dari hp itu\\n mahal\\n mahal\\n m...\n",
       "2    canggih, lama2 hp bisa mirip yg punya tony stark \n",
       "3                     huawei: go ahead,we are watching\n",
       "4    arghhhh... apalah dayaku sm hp kentangg gw, di...\n",
       "..                                                 ...\n",
       "294  ampun  buat chanel gadgetin-nya bang  banyak m...\n",
       "295                                          keren kak\n",
       "296                                              keren\n",
       "297                         hp nya ribet banget anying\n",
       "298  mendingan ini drpd galaxy fold klo ini mode hp...\n",
       "\n",
       "[299 rows x 1 columns]"
      ]
     },
     "execution_count": 164,
     "metadata": {},
     "output_type": "execute_result"
    }
   ],
   "source": [
    "dfnew=pd.DataFrame(df.comment.apply(clean))\n",
    "dfnew"
   ]
  },
  {
   "cell_type": "code",
   "execution_count": 68,
   "metadata": {},
   "outputs": [],
   "source": [
    "def Punctuation(string):\n",
    "  punctuation='''!\"#$%&'()*+,-./:;<=>?@[\\]^_`{|}~'''\n",
    "  for x in string.lower():\n",
    "    if x in punctuation:\n",
    "      string = string.replace(x, \"\")\n",
    "\n",
    "  return(string)\n",
    "\n",
    "cleanPunc = lambda x: Punctuation(x)"
   ]
  },
  {
   "cell_type": "code",
   "execution_count": 165,
   "metadata": {},
   "outputs": [
    {
     "data": {
      "text/html": [
       "<div>\n",
       "<style scoped>\n",
       "    .dataframe tbody tr th:only-of-type {\n",
       "        vertical-align: middle;\n",
       "    }\n",
       "\n",
       "    .dataframe tbody tr th {\n",
       "        vertical-align: top;\n",
       "    }\n",
       "\n",
       "    .dataframe thead th {\n",
       "        text-align: right;\n",
       "    }\n",
       "</style>\n",
       "<table border=\"1\" class=\"dataframe\">\n",
       "  <thead>\n",
       "    <tr style=\"text-align: right;\">\n",
       "      <th></th>\n",
       "      <th>comment</th>\n",
       "    </tr>\n",
       "  </thead>\n",
       "  <tbody>\n",
       "    <tr>\n",
       "      <th>0</th>\n",
       "      <td>HP semahal apa pun klo mau internetan tetap ba...</td>\n",
       "    </tr>\n",
       "    <tr>\n",
       "      <th>1</th>\n",
       "      <td>Ada kekurangan dari hp itu\\n1Terlalu mahal\\n2T...</td>\n",
       "    </tr>\n",
       "    <tr>\n",
       "      <th>2</th>\n",
       "      <td>Canggih lama2 Hp bisa mirip yg punya tony star...</td>\n",
       "    </tr>\n",
       "    <tr>\n",
       "      <th>3</th>\n",
       "      <td>huawei go aheadwe are watching</td>\n",
       "    </tr>\n",
       "    <tr>\n",
       "      <th>4</th>\n",
       "      <td>arghhhh apalah dayaku sm hp kentangg gw dikate...</td>\n",
       "    </tr>\n",
       "    <tr>\n",
       "      <th>...</th>\n",
       "      <td>...</td>\n",
       "    </tr>\n",
       "    <tr>\n",
       "      <th>294</th>\n",
       "      <td>Ampun gankemahalansukses buat chanel gadgetInn...</td>\n",
       "    </tr>\n",
       "    <tr>\n",
       "      <th>295</th>\n",
       "      <td>Keren kak</td>\n",
       "    </tr>\n",
       "    <tr>\n",
       "      <th>296</th>\n",
       "      <td>Keren</td>\n",
       "    </tr>\n",
       "    <tr>\n",
       "      <th>297</th>\n",
       "      <td>Hp nya ribet banget anying</td>\n",
       "    </tr>\n",
       "    <tr>\n",
       "      <th>298</th>\n",
       "      <td>Mendingan ini drpd galaxy fold klo ini mode hp...</td>\n",
       "    </tr>\n",
       "  </tbody>\n",
       "</table>\n",
       "<p>299 rows × 1 columns</p>\n",
       "</div>"
      ],
      "text/plain": [
       "                                               comment\n",
       "0    HP semahal apa pun klo mau internetan tetap ba...\n",
       "1    Ada kekurangan dari hp itu\\n1Terlalu mahal\\n2T...\n",
       "2    Canggih lama2 Hp bisa mirip yg punya tony star...\n",
       "3                       huawei go aheadwe are watching\n",
       "4    arghhhh apalah dayaku sm hp kentangg gw dikate...\n",
       "..                                                 ...\n",
       "294  Ampun gankemahalansukses buat chanel gadgetInn...\n",
       "295                                          Keren kak\n",
       "296                                              Keren\n",
       "297                         Hp nya ribet banget anying\n",
       "298  Mendingan ini drpd galaxy fold klo ini mode hp...\n",
       "\n",
       "[299 rows x 1 columns]"
      ]
     },
     "execution_count": 165,
     "metadata": {},
     "output_type": "execute_result"
    }
   ],
   "source": [
    "dfnew=pd.DataFrame(df.comment.apply(cleanPunc))\n",
    "dfnew"
   ]
  },
  {
   "cell_type": "code",
   "execution_count": 70,
   "metadata": {},
   "outputs": [],
   "source": [
    "def stopwords(text):\n",
    "  tokens = word_tokenize(text)\n",
    "  filtered = []\n",
    "\n",
    "  for w in tokens:\n",
    "    if w not in stop_words_indo:\n",
    "      filtered.append(w)\n",
    "\n",
    "  hasil=' '.join(filtered)\n",
    "  return hasil\n",
    "\n",
    "st=lambda x: stopwords(x)"
   ]
  },
  {
   "cell_type": "code",
   "execution_count": 254,
   "metadata": {},
   "outputs": [
    {
     "data": {
      "text/html": [
       "<div>\n",
       "<style scoped>\n",
       "    .dataframe tbody tr th:only-of-type {\n",
       "        vertical-align: middle;\n",
       "    }\n",
       "\n",
       "    .dataframe tbody tr th {\n",
       "        vertical-align: top;\n",
       "    }\n",
       "\n",
       "    .dataframe thead th {\n",
       "        text-align: right;\n",
       "    }\n",
       "</style>\n",
       "<table border=\"1\" class=\"dataframe\">\n",
       "  <thead>\n",
       "    <tr style=\"text-align: right;\">\n",
       "      <th></th>\n",
       "      <th>comment</th>\n",
       "    </tr>\n",
       "  </thead>\n",
       "  <tbody>\n",
       "    <tr>\n",
       "      <th>0</th>\n",
       "      <td>hp mahal klo internetan bayar pake kuota</td>\n",
       "    </tr>\n",
       "    <tr>\n",
       "      <th>1</th>\n",
       "      <td>hp 1terlalu mahal 2terlalu mahal 3terlalu mahal</td>\n",
       "    </tr>\n",
       "    <tr>\n",
       "      <th>2</th>\n",
       "      <td>canggih lama2 hp yg tony stark nihhahah</td>\n",
       "    </tr>\n",
       "    <tr>\n",
       "      <th>3</th>\n",
       "      <td>huawei go aheadwe are watching</td>\n",
       "    </tr>\n",
       "    <tr>\n",
       "      <th>4</th>\n",
       "      <td>arghhhh daya sm hp kentangg gw kate nih yeee 3...</td>\n",
       "    </tr>\n",
       "  </tbody>\n",
       "</table>\n",
       "</div>"
      ],
      "text/plain": [
       "                                             comment\n",
       "0           hp mahal klo internetan bayar pake kuota\n",
       "1    hp 1terlalu mahal 2terlalu mahal 3terlalu mahal\n",
       "2            canggih lama2 hp yg tony stark nihhahah\n",
       "3                     huawei go aheadwe are watching\n",
       "4  arghhhh daya sm hp kentangg gw kate nih yeee 3..."
      ]
     },
     "execution_count": 254,
     "metadata": {},
     "output_type": "execute_result"
    }
   ],
   "source": [
    "dfnew = pd.DataFrame(dfx.comment.apply(st))\n",
    "dfnew.head()"
   ]
  },
  {
   "cell_type": "code",
   "execution_count": 255,
   "metadata": {},
   "outputs": [
    {
     "data": {
      "text/html": [
       "<div>\n",
       "<style scoped>\n",
       "    .dataframe tbody tr th:only-of-type {\n",
       "        vertical-align: middle;\n",
       "    }\n",
       "\n",
       "    .dataframe tbody tr th {\n",
       "        vertical-align: top;\n",
       "    }\n",
       "\n",
       "    .dataframe thead th {\n",
       "        text-align: right;\n",
       "    }\n",
       "</style>\n",
       "<table border=\"1\" class=\"dataframe\">\n",
       "  <thead>\n",
       "    <tr style=\"text-align: right;\">\n",
       "      <th></th>\n",
       "      <th>comment</th>\n",
       "      <th>sentiment</th>\n",
       "    </tr>\n",
       "  </thead>\n",
       "  <tbody>\n",
       "    <tr>\n",
       "      <th>0</th>\n",
       "      <td>hp mahal klo internetan bayar pake kuota</td>\n",
       "      <td>negtive</td>\n",
       "    </tr>\n",
       "    <tr>\n",
       "      <th>1</th>\n",
       "      <td>hp 1terlalu mahal 2terlalu mahal 3terlalu mahal</td>\n",
       "      <td>positive</td>\n",
       "    </tr>\n",
       "    <tr>\n",
       "      <th>2</th>\n",
       "      <td>canggih lama2 hp yg tony stark nihhahah</td>\n",
       "      <td>positive</td>\n",
       "    </tr>\n",
       "    <tr>\n",
       "      <th>3</th>\n",
       "      <td>huawei go aheadwe are watching</td>\n",
       "      <td>positive</td>\n",
       "    </tr>\n",
       "    <tr>\n",
       "      <th>4</th>\n",
       "      <td>arghhhh daya sm hp kentangg gw kate nih yeee 3...</td>\n",
       "      <td>negtive</td>\n",
       "    </tr>\n",
       "    <tr>\n",
       "      <th>...</th>\n",
       "      <td>...</td>\n",
       "      <td>...</td>\n",
       "    </tr>\n",
       "    <tr>\n",
       "      <th>294</th>\n",
       "      <td>ampun gankemahalansukses chanel gadgetinnya ba...</td>\n",
       "      <td>negtive</td>\n",
       "    </tr>\n",
       "    <tr>\n",
       "      <th>295</th>\n",
       "      <td>keren kak</td>\n",
       "      <td>positive</td>\n",
       "    </tr>\n",
       "    <tr>\n",
       "      <th>296</th>\n",
       "      <td>keren</td>\n",
       "      <td>positive</td>\n",
       "    </tr>\n",
       "    <tr>\n",
       "      <th>297</th>\n",
       "      <td>hp nya ribet banget anying</td>\n",
       "      <td>negtive</td>\n",
       "    </tr>\n",
       "    <tr>\n",
       "      <th>298</th>\n",
       "      <td>mending drpd galaxy fold klo mode hpnya layar ...</td>\n",
       "      <td>positive</td>\n",
       "    </tr>\n",
       "  </tbody>\n",
       "</table>\n",
       "<p>299 rows × 2 columns</p>\n",
       "</div>"
      ],
      "text/plain": [
       "                                               comment sentiment\n",
       "0             hp mahal klo internetan bayar pake kuota   negtive\n",
       "1      hp 1terlalu mahal 2terlalu mahal 3terlalu mahal  positive\n",
       "2              canggih lama2 hp yg tony stark nihhahah  positive\n",
       "3                       huawei go aheadwe are watching  positive\n",
       "4    arghhhh daya sm hp kentangg gw kate nih yeee 3...   negtive\n",
       "..                                                 ...       ...\n",
       "294  ampun gankemahalansukses chanel gadgetinnya ba...   negtive\n",
       "295                                          keren kak  positive\n",
       "296                                              keren  positive\n",
       "297                         hp nya ribet banget anying   negtive\n",
       "298  mending drpd galaxy fold klo mode hpnya layar ...  positive\n",
       "\n",
       "[299 rows x 2 columns]"
      ]
     },
     "execution_count": 255,
     "metadata": {},
     "output_type": "execute_result"
    }
   ],
   "source": [
    "dfnew[\"sentiment\"]=df[\"sentiment\"]\n",
    "dfnew"
   ]
  },
  {
   "cell_type": "code",
   "execution_count": 265,
   "metadata": {},
   "outputs": [],
   "source": [
    "xdata=dfnew.drop('comment',axis=1)\n",
    "ydata=dfnew.sentiment"
   ]
  },
  {
   "cell_type": "code",
   "execution_count": 266,
   "metadata": {},
   "outputs": [],
   "source": [
    "xtrain,xtest,ytrain,ytest=train_test_split(xdata,ydata,test_size=0.3,random_state=1)"
   ]
  },
  {
   "cell_type": "code",
   "execution_count": 269,
   "metadata": {},
   "outputs": [],
   "source": [
    "## library untuk pemodelan klasifikasi\n",
    "from sklearn.model_selection import train_test_split\n",
    "from sklearn.naive_bayes import MultinomialNB\n",
    "from sklearn.naive_bayes import BernoulliNB\n",
    "from sklearn.naive_bayes import GaussianNB\n",
    "\n",
    "## library untuk evaluasi \n",
    "from sklearn.metrics import confusion_matrix \n",
    "from sklearn.metrics import accuracy_score"
   ]
  },
  {
   "cell_type": "code",
   "execution_count": 273,
   "metadata": {},
   "outputs": [],
   "source": [
    "#Sentiment Analysis TEXTBLOB\n",
    "def get_polarity(comment):\n",
    "    return TextBlob(comment).sentiment.polarity\n",
    "\n",
    "dfnew['Polarity'] = dfnew['comment'].apply(get_polarity)"
   ]
  },
  {
   "cell_type": "code",
   "execution_count": 274,
   "metadata": {},
   "outputs": [
    {
     "data": {
      "text/html": [
       "<div>\n",
       "<style scoped>\n",
       "    .dataframe tbody tr th:only-of-type {\n",
       "        vertical-align: middle;\n",
       "    }\n",
       "\n",
       "    .dataframe tbody tr th {\n",
       "        vertical-align: top;\n",
       "    }\n",
       "\n",
       "    .dataframe thead th {\n",
       "        text-align: right;\n",
       "    }\n",
       "</style>\n",
       "<table border=\"1\" class=\"dataframe\">\n",
       "  <thead>\n",
       "    <tr style=\"text-align: right;\">\n",
       "      <th></th>\n",
       "      <th>comment</th>\n",
       "      <th>sentiment</th>\n",
       "      <th>Polarity</th>\n",
       "    </tr>\n",
       "  </thead>\n",
       "  <tbody>\n",
       "    <tr>\n",
       "      <th>0</th>\n",
       "      <td>hp mahal klo internetan bayar pake kuota</td>\n",
       "      <td>negtive</td>\n",
       "      <td>0.0</td>\n",
       "    </tr>\n",
       "    <tr>\n",
       "      <th>1</th>\n",
       "      <td>hp 1terlalu mahal 2terlalu mahal 3terlalu mahal</td>\n",
       "      <td>positive</td>\n",
       "      <td>0.0</td>\n",
       "    </tr>\n",
       "    <tr>\n",
       "      <th>2</th>\n",
       "      <td>canggih lama2 hp yg tony stark nihhahah</td>\n",
       "      <td>positive</td>\n",
       "      <td>-0.2</td>\n",
       "    </tr>\n",
       "    <tr>\n",
       "      <th>3</th>\n",
       "      <td>huawei go aheadwe are watching</td>\n",
       "      <td>positive</td>\n",
       "      <td>0.0</td>\n",
       "    </tr>\n",
       "    <tr>\n",
       "      <th>4</th>\n",
       "      <td>arghhhh daya sm hp kentangg gw kate nih yeee 3...</td>\n",
       "      <td>negtive</td>\n",
       "      <td>0.0</td>\n",
       "    </tr>\n",
       "    <tr>\n",
       "      <th>...</th>\n",
       "      <td>...</td>\n",
       "      <td>...</td>\n",
       "      <td>...</td>\n",
       "    </tr>\n",
       "    <tr>\n",
       "      <th>294</th>\n",
       "      <td>ampun gankemahalansukses chanel gadgetinnya ba...</td>\n",
       "      <td>negtive</td>\n",
       "      <td>0.0</td>\n",
       "    </tr>\n",
       "    <tr>\n",
       "      <th>295</th>\n",
       "      <td>keren kak</td>\n",
       "      <td>positive</td>\n",
       "      <td>0.0</td>\n",
       "    </tr>\n",
       "    <tr>\n",
       "      <th>296</th>\n",
       "      <td>keren</td>\n",
       "      <td>positive</td>\n",
       "      <td>0.0</td>\n",
       "    </tr>\n",
       "    <tr>\n",
       "      <th>297</th>\n",
       "      <td>hp nya ribet banget anying</td>\n",
       "      <td>negtive</td>\n",
       "      <td>0.0</td>\n",
       "    </tr>\n",
       "    <tr>\n",
       "      <th>298</th>\n",
       "      <td>mending drpd galaxy fold klo mode hpnya layar ...</td>\n",
       "      <td>positive</td>\n",
       "      <td>0.0</td>\n",
       "    </tr>\n",
       "  </tbody>\n",
       "</table>\n",
       "<p>299 rows × 3 columns</p>\n",
       "</div>"
      ],
      "text/plain": [
       "                                               comment sentiment  Polarity\n",
       "0             hp mahal klo internetan bayar pake kuota   negtive       0.0\n",
       "1      hp 1terlalu mahal 2terlalu mahal 3terlalu mahal  positive       0.0\n",
       "2              canggih lama2 hp yg tony stark nihhahah  positive      -0.2\n",
       "3                       huawei go aheadwe are watching  positive       0.0\n",
       "4    arghhhh daya sm hp kentangg gw kate nih yeee 3...   negtive       0.0\n",
       "..                                                 ...       ...       ...\n",
       "294  ampun gankemahalansukses chanel gadgetinnya ba...   negtive       0.0\n",
       "295                                          keren kak  positive       0.0\n",
       "296                                              keren  positive       0.0\n",
       "297                         hp nya ribet banget anying   negtive       0.0\n",
       "298  mending drpd galaxy fold klo mode hpnya layar ...  positive       0.0\n",
       "\n",
       "[299 rows x 3 columns]"
      ]
     },
     "execution_count": 274,
     "metadata": {},
     "output_type": "execute_result"
    }
   ],
   "source": [
    "dfnew"
   ]
  },
  {
   "cell_type": "code",
   "execution_count": 275,
   "metadata": {},
   "outputs": [],
   "source": [
    "dfnew['Sentiment_Type']=''\n",
    "dfnew.loc[dfnew.Polarity>=0,'Sentiment_Type']='POSITIVE'\n",
    "dfnew.loc[dfnew.Polarity<0,'Sentiment_Type']='NEGATIVE'"
   ]
  },
  {
   "cell_type": "code",
   "execution_count": 276,
   "metadata": {},
   "outputs": [
    {
     "data": {
      "text/html": [
       "<div>\n",
       "<style scoped>\n",
       "    .dataframe tbody tr th:only-of-type {\n",
       "        vertical-align: middle;\n",
       "    }\n",
       "\n",
       "    .dataframe tbody tr th {\n",
       "        vertical-align: top;\n",
       "    }\n",
       "\n",
       "    .dataframe thead th {\n",
       "        text-align: right;\n",
       "    }\n",
       "</style>\n",
       "<table border=\"1\" class=\"dataframe\">\n",
       "  <thead>\n",
       "    <tr style=\"text-align: right;\">\n",
       "      <th></th>\n",
       "      <th>comment</th>\n",
       "      <th>sentiment</th>\n",
       "      <th>Polarity</th>\n",
       "      <th>Sentiment_Type</th>\n",
       "    </tr>\n",
       "  </thead>\n",
       "  <tbody>\n",
       "    <tr>\n",
       "      <th>0</th>\n",
       "      <td>hp mahal klo internetan bayar pake kuota</td>\n",
       "      <td>negtive</td>\n",
       "      <td>0.0</td>\n",
       "      <td>POSITIVE</td>\n",
       "    </tr>\n",
       "    <tr>\n",
       "      <th>1</th>\n",
       "      <td>hp 1terlalu mahal 2terlalu mahal 3terlalu mahal</td>\n",
       "      <td>positive</td>\n",
       "      <td>0.0</td>\n",
       "      <td>POSITIVE</td>\n",
       "    </tr>\n",
       "    <tr>\n",
       "      <th>2</th>\n",
       "      <td>canggih lama2 hp yg tony stark nihhahah</td>\n",
       "      <td>positive</td>\n",
       "      <td>-0.2</td>\n",
       "      <td>NEGATIVE</td>\n",
       "    </tr>\n",
       "    <tr>\n",
       "      <th>3</th>\n",
       "      <td>huawei go aheadwe are watching</td>\n",
       "      <td>positive</td>\n",
       "      <td>0.0</td>\n",
       "      <td>POSITIVE</td>\n",
       "    </tr>\n",
       "    <tr>\n",
       "      <th>4</th>\n",
       "      <td>arghhhh daya sm hp kentangg gw kate nih yeee 3...</td>\n",
       "      <td>negtive</td>\n",
       "      <td>0.0</td>\n",
       "      <td>POSITIVE</td>\n",
       "    </tr>\n",
       "    <tr>\n",
       "      <th>...</th>\n",
       "      <td>...</td>\n",
       "      <td>...</td>\n",
       "      <td>...</td>\n",
       "      <td>...</td>\n",
       "    </tr>\n",
       "    <tr>\n",
       "      <th>294</th>\n",
       "      <td>ampun gankemahalansukses chanel gadgetinnya ba...</td>\n",
       "      <td>negtive</td>\n",
       "      <td>0.0</td>\n",
       "      <td>POSITIVE</td>\n",
       "    </tr>\n",
       "    <tr>\n",
       "      <th>295</th>\n",
       "      <td>keren kak</td>\n",
       "      <td>positive</td>\n",
       "      <td>0.0</td>\n",
       "      <td>POSITIVE</td>\n",
       "    </tr>\n",
       "    <tr>\n",
       "      <th>296</th>\n",
       "      <td>keren</td>\n",
       "      <td>positive</td>\n",
       "      <td>0.0</td>\n",
       "      <td>POSITIVE</td>\n",
       "    </tr>\n",
       "    <tr>\n",
       "      <th>297</th>\n",
       "      <td>hp nya ribet banget anying</td>\n",
       "      <td>negtive</td>\n",
       "      <td>0.0</td>\n",
       "      <td>POSITIVE</td>\n",
       "    </tr>\n",
       "    <tr>\n",
       "      <th>298</th>\n",
       "      <td>mending drpd galaxy fold klo mode hpnya layar ...</td>\n",
       "      <td>positive</td>\n",
       "      <td>0.0</td>\n",
       "      <td>POSITIVE</td>\n",
       "    </tr>\n",
       "  </tbody>\n",
       "</table>\n",
       "<p>299 rows × 4 columns</p>\n",
       "</div>"
      ],
      "text/plain": [
       "                                               comment sentiment  Polarity  \\\n",
       "0             hp mahal klo internetan bayar pake kuota   negtive       0.0   \n",
       "1      hp 1terlalu mahal 2terlalu mahal 3terlalu mahal  positive       0.0   \n",
       "2              canggih lama2 hp yg tony stark nihhahah  positive      -0.2   \n",
       "3                       huawei go aheadwe are watching  positive       0.0   \n",
       "4    arghhhh daya sm hp kentangg gw kate nih yeee 3...   negtive       0.0   \n",
       "..                                                 ...       ...       ...   \n",
       "294  ampun gankemahalansukses chanel gadgetinnya ba...   negtive       0.0   \n",
       "295                                          keren kak  positive       0.0   \n",
       "296                                              keren  positive       0.0   \n",
       "297                         hp nya ribet banget anying   negtive       0.0   \n",
       "298  mending drpd galaxy fold klo mode hpnya layar ...  positive       0.0   \n",
       "\n",
       "    Sentiment_Type  \n",
       "0         POSITIVE  \n",
       "1         POSITIVE  \n",
       "2         NEGATIVE  \n",
       "3         POSITIVE  \n",
       "4         POSITIVE  \n",
       "..             ...  \n",
       "294       POSITIVE  \n",
       "295       POSITIVE  \n",
       "296       POSITIVE  \n",
       "297       POSITIVE  \n",
       "298       POSITIVE  \n",
       "\n",
       "[299 rows x 4 columns]"
      ]
     },
     "execution_count": 276,
     "metadata": {},
     "output_type": "execute_result"
    }
   ],
   "source": [
    "dfnew"
   ]
  },
  {
   "cell_type": "code",
   "execution_count": 277,
   "metadata": {},
   "outputs": [],
   "source": [
    "def sentiment_type (row):\n",
    "    if row['Sentiment_Type']=='POSITIVE' :\n",
    "        return 1\n",
    "    elif row['Sentiment_Type']=='NEGATIVE':\n",
    "        return 0"
   ]
  },
  {
   "cell_type": "code",
   "execution_count": 279,
   "metadata": {},
   "outputs": [
    {
     "data": {
      "text/html": [
       "<div>\n",
       "<style scoped>\n",
       "    .dataframe tbody tr th:only-of-type {\n",
       "        vertical-align: middle;\n",
       "    }\n",
       "\n",
       "    .dataframe tbody tr th {\n",
       "        vertical-align: top;\n",
       "    }\n",
       "\n",
       "    .dataframe thead th {\n",
       "        text-align: right;\n",
       "    }\n",
       "</style>\n",
       "<table border=\"1\" class=\"dataframe\">\n",
       "  <thead>\n",
       "    <tr style=\"text-align: right;\">\n",
       "      <th></th>\n",
       "      <th>comment</th>\n",
       "      <th>sentiment</th>\n",
       "      <th>Polarity</th>\n",
       "      <th>Sentiment_Type</th>\n",
       "    </tr>\n",
       "  </thead>\n",
       "  <tbody>\n",
       "    <tr>\n",
       "      <th>0</th>\n",
       "      <td>hp mahal klo internetan bayar pake kuota</td>\n",
       "      <td>negtive</td>\n",
       "      <td>0.0</td>\n",
       "      <td>1</td>\n",
       "    </tr>\n",
       "    <tr>\n",
       "      <th>1</th>\n",
       "      <td>hp 1terlalu mahal 2terlalu mahal 3terlalu mahal</td>\n",
       "      <td>positive</td>\n",
       "      <td>0.0</td>\n",
       "      <td>1</td>\n",
       "    </tr>\n",
       "    <tr>\n",
       "      <th>2</th>\n",
       "      <td>canggih lama2 hp yg tony stark nihhahah</td>\n",
       "      <td>positive</td>\n",
       "      <td>-0.2</td>\n",
       "      <td>0</td>\n",
       "    </tr>\n",
       "  </tbody>\n",
       "</table>\n",
       "</div>"
      ],
      "text/plain": [
       "                                           comment sentiment  Polarity  \\\n",
       "0         hp mahal klo internetan bayar pake kuota   negtive       0.0   \n",
       "1  hp 1terlalu mahal 2terlalu mahal 3terlalu mahal  positive       0.0   \n",
       "2          canggih lama2 hp yg tony stark nihhahah  positive      -0.2   \n",
       "\n",
       "   Sentiment_Type  \n",
       "0               1  \n",
       "1               1  \n",
       "2               0  "
      ]
     },
     "execution_count": 279,
     "metadata": {},
     "output_type": "execute_result"
    }
   ],
   "source": [
    "dfnew['Sentiment_Type']=dfnew.apply(lambda row: sentiment_type(row),axis=1)\n",
    "dfnew.head(3)"
   ]
  },
  {
   "cell_type": "code",
   "execution_count": 283,
   "metadata": {},
   "outputs": [],
   "source": [
    "def sentiment (row):\n",
    "    if row['sentiment']=='Positive' or row['sentiment']=='positive' :\n",
    "        return 1\n",
    "    elif row['sentiment']=='Negative' or row['sentiment']=='negtive':\n",
    "        return 0"
   ]
  },
  {
   "cell_type": "code",
   "execution_count": 284,
   "metadata": {},
   "outputs": [
    {
     "data": {
      "text/html": [
       "<div>\n",
       "<style scoped>\n",
       "    .dataframe tbody tr th:only-of-type {\n",
       "        vertical-align: middle;\n",
       "    }\n",
       "\n",
       "    .dataframe tbody tr th {\n",
       "        vertical-align: top;\n",
       "    }\n",
       "\n",
       "    .dataframe thead th {\n",
       "        text-align: right;\n",
       "    }\n",
       "</style>\n",
       "<table border=\"1\" class=\"dataframe\">\n",
       "  <thead>\n",
       "    <tr style=\"text-align: right;\">\n",
       "      <th></th>\n",
       "      <th>comment</th>\n",
       "      <th>sentiment</th>\n",
       "      <th>Polarity</th>\n",
       "      <th>Sentiment_Type</th>\n",
       "    </tr>\n",
       "  </thead>\n",
       "  <tbody>\n",
       "    <tr>\n",
       "      <th>0</th>\n",
       "      <td>hp mahal klo internetan bayar pake kuota</td>\n",
       "      <td>0</td>\n",
       "      <td>0.0</td>\n",
       "      <td>1</td>\n",
       "    </tr>\n",
       "    <tr>\n",
       "      <th>1</th>\n",
       "      <td>hp 1terlalu mahal 2terlalu mahal 3terlalu mahal</td>\n",
       "      <td>1</td>\n",
       "      <td>0.0</td>\n",
       "      <td>1</td>\n",
       "    </tr>\n",
       "    <tr>\n",
       "      <th>2</th>\n",
       "      <td>canggih lama2 hp yg tony stark nihhahah</td>\n",
       "      <td>1</td>\n",
       "      <td>-0.2</td>\n",
       "      <td>0</td>\n",
       "    </tr>\n",
       "  </tbody>\n",
       "</table>\n",
       "</div>"
      ],
      "text/plain": [
       "                                           comment  sentiment  Polarity  \\\n",
       "0         hp mahal klo internetan bayar pake kuota          0       0.0   \n",
       "1  hp 1terlalu mahal 2terlalu mahal 3terlalu mahal          1       0.0   \n",
       "2          canggih lama2 hp yg tony stark nihhahah          1      -0.2   \n",
       "\n",
       "   Sentiment_Type  \n",
       "0               1  \n",
       "1               1  \n",
       "2               0  "
      ]
     },
     "execution_count": 284,
     "metadata": {},
     "output_type": "execute_result"
    }
   ],
   "source": [
    "dfnew['sentiment']=dfnew.apply(lambda row: sentiment(row),axis=1)\n",
    "dfnew.head(3)"
   ]
  },
  {
   "cell_type": "code",
   "execution_count": 286,
   "metadata": {},
   "outputs": [
    {
     "data": {
      "text/plain": [
       "1    155\n",
       "0    144\n",
       "Name: sentiment, dtype: int64"
      ]
     },
     "execution_count": 286,
     "metadata": {},
     "output_type": "execute_result"
    }
   ],
   "source": [
    "dfnew['sentiment'].value_counts()"
   ]
  },
  {
   "cell_type": "code",
   "execution_count": 288,
   "metadata": {},
   "outputs": [
    {
     "data": {
      "text/plain": [
       "1    296\n",
       "0      3\n",
       "Name: Sentiment_Type, dtype: int64"
      ]
     },
     "execution_count": 288,
     "metadata": {},
     "output_type": "execute_result"
    }
   ],
   "source": [
    "dfnew['Sentiment_Type'].value_counts()"
   ]
  },
  {
   "cell_type": "code",
   "execution_count": 289,
   "metadata": {},
   "outputs": [],
   "source": [
    "dfnew = dfnew.drop('comment', axis=1)"
   ]
  },
  {
   "cell_type": "code",
   "execution_count": 290,
   "metadata": {},
   "outputs": [],
   "source": [
    "dfnew = dfnew.drop('Polarity', axis=1)"
   ]
  },
  {
   "cell_type": "code",
   "execution_count": 291,
   "metadata": {},
   "outputs": [
    {
     "name": "stderr",
     "output_type": "stream",
     "text": [
      "[nltk_data] Downloading package vader_lexicon to\n",
      "[nltk_data]     C:\\Users\\nanda\\AppData\\Roaming\\nltk_data...\n",
      "[nltk_data]   Package vader_lexicon is already up-to-date!\n"
     ]
    }
   ],
   "source": [
    "import nltk\n",
    "nltk.download('vader_lexicon')\n",
    "from nltk.sentiment.vader import SentimentIntensityAnalyzer\n",
    "\n",
    "sid = SentimentIntensityAnalyzer()"
   ]
  },
  {
   "cell_type": "code",
   "execution_count": 293,
   "metadata": {},
   "outputs": [],
   "source": [
    "# Variabel independen\n",
    "x = dfnew.drop([\"Sentiment_Type\"], axis = 1)\n",
    "# Variabel dependen\n",
    "y = dfnew[\"Sentiment_Type\"]"
   ]
  },
  {
   "cell_type": "code",
   "execution_count": 308,
   "metadata": {},
   "outputs": [],
   "source": [
    "xtrain, xtest, ytrain, ytest = train_test_split(x, y, test_size = 0.2, random_state = 123)"
   ]
  },
  {
   "cell_type": "code",
   "execution_count": 309,
   "metadata": {},
   "outputs": [],
   "source": [
    "modelnb = GaussianNB()"
   ]
  },
  {
   "cell_type": "code",
   "execution_count": 310,
   "metadata": {},
   "outputs": [
    {
     "data": {
      "text/plain": [
       "array([  3., 236.])"
      ]
     },
     "execution_count": 310,
     "metadata": {},
     "output_type": "execute_result"
    }
   ],
   "source": [
    "nbtrain = modelnb.fit(xtrain, ytrain)\n",
    "nbtrain.class_count_"
   ]
  },
  {
   "cell_type": "code",
   "execution_count": 319,
   "metadata": {},
   "outputs": [
    {
     "data": {
      "text/plain": [
       "GaussianNB()"
      ]
     },
     "execution_count": 319,
     "metadata": {},
     "output_type": "execute_result"
    }
   ],
   "source": [
    "nbtrain"
   ]
  },
  {
   "cell_type": "code",
   "execution_count": 312,
   "metadata": {},
   "outputs": [
    {
     "data": {
      "text/html": [
       "<div>\n",
       "<style scoped>\n",
       "    .dataframe tbody tr th:only-of-type {\n",
       "        vertical-align: middle;\n",
       "    }\n",
       "\n",
       "    .dataframe tbody tr th {\n",
       "        vertical-align: top;\n",
       "    }\n",
       "\n",
       "    .dataframe thead th {\n",
       "        text-align: right;\n",
       "    }\n",
       "</style>\n",
       "<table border=\"1\" class=\"dataframe\">\n",
       "  <thead>\n",
       "    <tr style=\"text-align: right;\">\n",
       "      <th></th>\n",
       "      <th>sentiment</th>\n",
       "    </tr>\n",
       "  </thead>\n",
       "  <tbody>\n",
       "    <tr>\n",
       "      <th>236</th>\n",
       "      <td>1</td>\n",
       "    </tr>\n",
       "    <tr>\n",
       "      <th>102</th>\n",
       "      <td>1</td>\n",
       "    </tr>\n",
       "    <tr>\n",
       "      <th>196</th>\n",
       "      <td>1</td>\n",
       "    </tr>\n",
       "    <tr>\n",
       "      <th>53</th>\n",
       "      <td>1</td>\n",
       "    </tr>\n",
       "    <tr>\n",
       "      <th>105</th>\n",
       "      <td>1</td>\n",
       "    </tr>\n",
       "    <tr>\n",
       "      <th>...</th>\n",
       "      <td>...</td>\n",
       "    </tr>\n",
       "    <tr>\n",
       "      <th>106</th>\n",
       "      <td>0</td>\n",
       "    </tr>\n",
       "    <tr>\n",
       "      <th>83</th>\n",
       "      <td>0</td>\n",
       "    </tr>\n",
       "    <tr>\n",
       "      <th>17</th>\n",
       "      <td>1</td>\n",
       "    </tr>\n",
       "    <tr>\n",
       "      <th>230</th>\n",
       "      <td>1</td>\n",
       "    </tr>\n",
       "    <tr>\n",
       "      <th>98</th>\n",
       "      <td>0</td>\n",
       "    </tr>\n",
       "  </tbody>\n",
       "</table>\n",
       "<p>239 rows × 1 columns</p>\n",
       "</div>"
      ],
      "text/plain": [
       "     sentiment\n",
       "236          1\n",
       "102          1\n",
       "196          1\n",
       "53           1\n",
       "105          1\n",
       "..         ...\n",
       "106          0\n",
       "83           0\n",
       "17           1\n",
       "230          1\n",
       "98           0\n",
       "\n",
       "[239 rows x 1 columns]"
      ]
     },
     "execution_count": 312,
     "metadata": {},
     "output_type": "execute_result"
    }
   ],
   "source": [
    "xtrain\n"
   ]
  },
  {
   "cell_type": "code",
   "execution_count": 313,
   "metadata": {},
   "outputs": [],
   "source": [
    "from sklearn import metrics\n",
    "ypred_nb = nbtrain.predict(xtest)\n",
    "ypredtrain=nbtrain.predict(xtrain)"
   ]
  },
  {
   "cell_type": "code",
   "execution_count": 314,
   "metadata": {},
   "outputs": [],
   "source": [
    "#jenis pembagian data cross-val\n",
    "from sklearn.model_selection import cross_val_score"
   ]
  },
  {
   "cell_type": "code",
   "execution_count": 315,
   "metadata": {},
   "outputs": [
    {
     "name": "stdout",
     "output_type": "stream",
     "text": [
      "Akurasi Data Train 98.74476987447699\n",
      "Akurasi Data Test 100.0\n"
     ]
    }
   ],
   "source": [
    "print(\"Akurasi Data Train\",metrics.accuracy_score(ytrain,ypredtrain)*100)\n",
    "print(\"Akurasi Data Test\",metrics.accuracy_score(ytest,ypred_nb)*100)"
   ]
  },
  {
   "cell_type": "code",
   "execution_count": 316,
   "metadata": {},
   "outputs": [
    {
     "name": "stdout",
     "output_type": "stream",
     "text": [
      "[[60]]\n"
     ]
    }
   ],
   "source": [
    "#EVALUASI MODEL - CONFUSION MATRIX (AKURASI, PRECISION, RECALL, F1 SCORE)\n",
    "from sklearn.metrics import classification_report, confusion_matrix\n",
    "print(confusion_matrix(ytest,ypred_nb))"
   ]
  },
  {
   "cell_type": "code",
   "execution_count": 301,
   "metadata": {},
   "outputs": [
    {
     "data": {
      "text/html": [
       "<div>\n",
       "<style scoped>\n",
       "    .dataframe tbody tr th:only-of-type {\n",
       "        vertical-align: middle;\n",
       "    }\n",
       "\n",
       "    .dataframe tbody tr th {\n",
       "        vertical-align: top;\n",
       "    }\n",
       "\n",
       "    .dataframe thead th {\n",
       "        text-align: right;\n",
       "    }\n",
       "</style>\n",
       "<table border=\"1\" class=\"dataframe\">\n",
       "  <thead>\n",
       "    <tr style=\"text-align: right;\">\n",
       "      <th>Predicted</th>\n",
       "      <th>1</th>\n",
       "      <th>All</th>\n",
       "    </tr>\n",
       "    <tr>\n",
       "      <th>Actual</th>\n",
       "      <th></th>\n",
       "      <th></th>\n",
       "    </tr>\n",
       "  </thead>\n",
       "  <tbody>\n",
       "    <tr>\n",
       "      <th>1</th>\n",
       "      <td>60</td>\n",
       "      <td>60</td>\n",
       "    </tr>\n",
       "    <tr>\n",
       "      <th>All</th>\n",
       "      <td>60</td>\n",
       "      <td>60</td>\n",
       "    </tr>\n",
       "  </tbody>\n",
       "</table>\n",
       "</div>"
      ],
      "text/plain": [
       "Predicted   1  All\n",
       "Actual            \n",
       "1          60   60\n",
       "All        60   60"
      ]
     },
     "execution_count": 301,
     "metadata": {},
     "output_type": "execute_result"
    }
   ],
   "source": [
    "pd.crosstab(y_test,ypred_nb, rownames=['Actual'], colnames = ['Predicted'], margins=True)"
   ]
  },
  {
   "cell_type": "code",
   "execution_count": 302,
   "metadata": {},
   "outputs": [
    {
     "name": "stdout",
     "output_type": "stream",
     "text": [
      "              precision    recall  f1-score   support\n",
      "\n",
      "           1       1.00      1.00      1.00        60\n",
      "\n",
      "    accuracy                           1.00        60\n",
      "   macro avg       1.00      1.00      1.00        60\n",
      "weighted avg       1.00      1.00      1.00        60\n",
      "\n"
     ]
    }
   ],
   "source": [
    "#hitung nilai akurasim precision, recall dan F1 score\n",
    "from sklearn.metrics import classification_report\n",
    "print(classification_report(y_test, ypred_nb))"
   ]
  },
  {
   "cell_type": "code",
   "execution_count": 306,
   "metadata": {},
   "outputs": [
    {
     "name": "stdout",
     "output_type": "stream",
     "text": [
      "MNB\n",
      "Rata-rata nilai akurasi: 0.99 (+/- 0.02)\n",
      "Rata-rata nilai precision macro: 0.84 (+/- 0.24)\n",
      "Rata-rata nilai recall macro: 0.85 (+/- 0.23)\n",
      "Rata-rata nilai f1 macro: 0.85 (+/- 0.23)\n"
     ]
    },
    {
     "name": "stderr",
     "output_type": "stream",
     "text": [
      "C:\\Users\\nanda\\anaconda3\\lib\\site-packages\\sklearn\\model_selection\\_split.py:670: UserWarning: The least populated class in y has only 3 members, which is less than n_splits=10.\n",
      "  warnings.warn((\"The least populated class in y has only %d\"\n",
      "C:\\Users\\nanda\\anaconda3\\lib\\site-packages\\sklearn\\model_selection\\_split.py:670: UserWarning: The least populated class in y has only 3 members, which is less than n_splits=10.\n",
      "  warnings.warn((\"The least populated class in y has only %d\"\n",
      "C:\\Users\\nanda\\anaconda3\\lib\\site-packages\\sklearn\\metrics\\_classification.py:1221: UndefinedMetricWarning: Precision is ill-defined and being set to 0.0 in labels with no predicted samples. Use `zero_division` parameter to control this behavior.\n",
      "  _warn_prf(average, modifier, msg_start, len(result))\n",
      "C:\\Users\\nanda\\anaconda3\\lib\\site-packages\\sklearn\\metrics\\_classification.py:1221: UndefinedMetricWarning: Precision is ill-defined and being set to 0.0 in labels with no predicted samples. Use `zero_division` parameter to control this behavior.\n",
      "  _warn_prf(average, modifier, msg_start, len(result))\n",
      "C:\\Users\\nanda\\anaconda3\\lib\\site-packages\\sklearn\\metrics\\_classification.py:1221: UndefinedMetricWarning: Precision is ill-defined and being set to 0.0 in labels with no predicted samples. Use `zero_division` parameter to control this behavior.\n",
      "  _warn_prf(average, modifier, msg_start, len(result))\n",
      "C:\\Users\\nanda\\anaconda3\\lib\\site-packages\\sklearn\\model_selection\\_split.py:670: UserWarning: The least populated class in y has only 3 members, which is less than n_splits=10.\n",
      "  warnings.warn((\"The least populated class in y has only %d\"\n",
      "C:\\Users\\nanda\\anaconda3\\lib\\site-packages\\sklearn\\model_selection\\_split.py:670: UserWarning: The least populated class in y has only 3 members, which is less than n_splits=10.\n",
      "  warnings.warn((\"The least populated class in y has only %d\"\n"
     ]
    }
   ],
   "source": [
    "print(\"MNB\")\n",
    "scores_accuracy_mnb = cross_val_score(mnb, X_v, y, cv=10, scoring='accuracy')\n",
    "print(\"Rata-rata nilai akurasi: %0.2f (+/- %0.2f)\" % (scores_accuracy_mnb.mean(), scores_accuracy_mnb.std()))\n",
    "\n",
    "scores_precision_mnb = cross_val_score(mnb, X_v, y, cv=10, scoring='precision_macro')\n",
    "print(\"Rata-rata nilai precision macro: %0.2f (+/- %0.2f)\" % (scores_precision_mnb.mean(), scores_precision_mnb.std()))\n",
    "\n",
    "scores_recall_mnb = cross_val_score(mnb, X_v, y, cv=10, scoring='recall_macro')\n",
    "print(\"Rata-rata nilai recall macro: %0.2f (+/- %0.2f)\" % (scores_recall_mnb.mean(), scores_recall_mnb.std()))\n",
    "\n",
    "scores_f1_mnb = cross_val_score(mnb, X_v, y, cv=10, scoring='f1_macro')\n",
    "print(\"Rata-rata nilai f1 macro: %0.2f (+/- %0.2f)\" % (scores_f1_mnb.mean(), scores_f1_mnb.std()))"
   ]
  },
  {
   "cell_type": "code",
   "execution_count": null,
   "metadata": {},
   "outputs": [],
   "source": []
  }
 ],
 "metadata": {
  "kernelspec": {
   "display_name": "Python 3",
   "language": "python",
   "name": "python3"
  },
  "language_info": {
   "codemirror_mode": {
    "name": "ipython",
    "version": 3
   },
   "file_extension": ".py",
   "mimetype": "text/x-python",
   "name": "python",
   "nbconvert_exporter": "python",
   "pygments_lexer": "ipython3",
   "version": "3.8.3"
  }
 },
 "nbformat": 4,
 "nbformat_minor": 4
}
